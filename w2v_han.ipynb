{
 "cells": [
  {
   "cell_type": "code",
   "execution_count": 1,
   "metadata": {},
   "outputs": [
    {
     "name": "stderr",
     "output_type": "stream",
     "text": [
      "/home/weiyu/anaconda3/envs/tensorflow/lib/python3.6/site-packages/tensorflow/python/framework/dtypes.py:523: FutureWarning: Passing (type, 1) or '1type' as a synonym of type is deprecated; in a future version of numpy, it will be understood as (type, (1,)) / '(1,)type'.\n",
      "  _np_qint8 = np.dtype([(\"qint8\", np.int8, 1)])\n",
      "/home/weiyu/anaconda3/envs/tensorflow/lib/python3.6/site-packages/tensorflow/python/framework/dtypes.py:524: FutureWarning: Passing (type, 1) or '1type' as a synonym of type is deprecated; in a future version of numpy, it will be understood as (type, (1,)) / '(1,)type'.\n",
      "  _np_quint8 = np.dtype([(\"quint8\", np.uint8, 1)])\n",
      "/home/weiyu/anaconda3/envs/tensorflow/lib/python3.6/site-packages/tensorflow/python/framework/dtypes.py:525: FutureWarning: Passing (type, 1) or '1type' as a synonym of type is deprecated; in a future version of numpy, it will be understood as (type, (1,)) / '(1,)type'.\n",
      "  _np_qint16 = np.dtype([(\"qint16\", np.int16, 1)])\n",
      "/home/weiyu/anaconda3/envs/tensorflow/lib/python3.6/site-packages/tensorflow/python/framework/dtypes.py:526: FutureWarning: Passing (type, 1) or '1type' as a synonym of type is deprecated; in a future version of numpy, it will be understood as (type, (1,)) / '(1,)type'.\n",
      "  _np_quint16 = np.dtype([(\"quint16\", np.uint16, 1)])\n",
      "/home/weiyu/anaconda3/envs/tensorflow/lib/python3.6/site-packages/tensorflow/python/framework/dtypes.py:527: FutureWarning: Passing (type, 1) or '1type' as a synonym of type is deprecated; in a future version of numpy, it will be understood as (type, (1,)) / '(1,)type'.\n",
      "  _np_qint32 = np.dtype([(\"qint32\", np.int32, 1)])\n",
      "/home/weiyu/anaconda3/envs/tensorflow/lib/python3.6/site-packages/tensorflow/python/framework/dtypes.py:532: FutureWarning: Passing (type, 1) or '1type' as a synonym of type is deprecated; in a future version of numpy, it will be understood as (type, (1,)) / '(1,)type'.\n",
      "  np_resource = np.dtype([(\"resource\", np.ubyte, 1)])\n",
      "Using TensorFlow backend.\n"
     ]
    }
   ],
   "source": [
    "import tensorflow as tf\n",
    "import fasttext\n",
    "import numpy as np\n",
    "import pickle\n",
    "import jieba\n",
    "import pandas as pd\n",
    "import keras\n",
    "from keras.layers import Input,Dense,Conv1D,MaxPooling1D,Flatten,Dropout,concatenate,Bidirectional,GRU,TimeDistributed\n",
    "from keras.utils import to_categorical\n",
    "import pickle\n",
    "from keras.models import Model\n",
    "from keras.engine.topology import Layer\n",
    "from keras import initializers\n",
    "from keras import backend as K\n",
    "import matplotlib.pyplot as plt \n",
    "from tensorflow.contrib.rnn import *\n"
   ]
  },
  {
   "cell_type": "markdown",
   "metadata": {},
   "source": [
    "# 加载数据"
   ]
  },
  {
   "cell_type": "code",
   "execution_count": 2,
   "metadata": {},
   "outputs": [],
   "source": [
    "#加载数据\n",
    "with open(\"./data/data_input.pkl\", \"rb\") as f:\n",
    "    text_train, label_train, text_test, label_test, label_names = pickle.load(f)"
   ]
  },
  {
   "cell_type": "code",
   "execution_count": 3,
   "metadata": {},
   "outputs": [],
   "source": [
    "#加载停用词\n",
    "stopwords=pd.read_csv(\"./data/stopwords.txt\",index_col=False,quoting=3,sep=\"\\t\",names=['stopword'], encoding='utf-8')\n",
    "stopwords=stopwords['stopword'].values"
   ]
  },
  {
   "cell_type": "markdown",
   "metadata": {},
   "source": [
    "# 数据预处理"
   ]
  },
  {
   "cell_type": "code",
   "execution_count": 4,
   "metadata": {},
   "outputs": [],
   "source": [
    "def text_to_tokens(line):\n",
    "    sentences = line.split(\"。\")\n",
    "    tokens=[]\n",
    "    for x in sentences[:10]:\n",
    "        words = jieba.lcut(x)\n",
    "        tokens.append(np.array([x for x in words if x not in stopwords]))\n",
    "    return tokens"
   ]
  },
  {
   "cell_type": "code",
   "execution_count": 5,
   "metadata": {},
   "outputs": [
    {
     "name": "stderr",
     "output_type": "stream",
     "text": [
      "Building prefix dict from the default dictionary ...\n",
      "Loading model from cache /tmp/jieba.cache\n",
      "Dumping model to file cache /tmp/jieba.cache\n",
      "Dump cache file failed.\n",
      "Traceback (most recent call last):\n",
      "  File \"/home/weiyu/anaconda3/envs/tensorflow/lib/python3.6/site-packages/jieba/__init__.py\", line 154, in initialize\n",
      "    _replace_file(fpath, cache_file)\n",
      "PermissionError: [Errno 1] Operation not permitted: '/tmp/tmprltve71j' -> '/tmp/jieba.cache'\n",
      "Loading model cost 1.004 seconds.\n",
      "Prefix dict has been built successfully.\n"
     ]
    }
   ],
   "source": [
    "x_train_tokens = np.array([text_to_tokens(x) for x in text_train])\n",
    "x_test_tokens = np.array([text_to_tokens(x) for x in text_test])"
   ]
  },
  {
   "cell_type": "code",
   "execution_count": 6,
   "metadata": {},
   "outputs": [
    {
     "data": {
      "text/plain": [
       "'连续'"
      ]
     },
     "execution_count": 6,
     "metadata": {},
     "output_type": "execute_result"
    }
   ],
   "source": [
    "x_train_tokens[0][1][1]"
   ]
  },
  {
   "cell_type": "code",
   "execution_count": 7,
   "metadata": {},
   "outputs": [
    {
     "name": "stderr",
     "output_type": "stream",
     "text": [
      "\n"
     ]
    }
   ],
   "source": [
    "model=fasttext.load_model(\"./model/model_fasttext.bin\")"
   ]
  },
  {
   "cell_type": "code",
   "execution_count": 8,
   "metadata": {},
   "outputs": [],
   "source": [
    "sequence_count=10\n",
    "sequence_len=10\n",
    "embedding_size=300\n",
    "#处理成定长\n",
    "def get_embedding(line):\n",
    "    word_vec=np.zeros([sequence_count,sequence_len,embedding_size],dtype=\"float\")\n",
    "    for i in range(min(sequence_count,len(line))):\n",
    "        for j in range(sequence_len):\n",
    "            if(j<len(line[i])):\n",
    "                word_vec[i][j]=model[line[i][j]]\n",
    "            else:\n",
    "                word_vec[i][j]=model[\"blank\"]\n",
    "    return word_vec           "
   ]
  },
  {
   "cell_type": "code",
   "execution_count": 9,
   "metadata": {},
   "outputs": [],
   "source": [
    "x_train = np.array([get_embedding(x) for x in x_train_tokens])\n",
    "x_test = np.array([get_embedding(x) for x in x_test_tokens])"
   ]
  },
  {
   "cell_type": "code",
   "execution_count": 10,
   "metadata": {},
   "outputs": [
    {
     "data": {
      "text/plain": [
       "(5734, 10, 10, 300)"
      ]
     },
     "execution_count": 10,
     "metadata": {},
     "output_type": "execute_result"
    }
   ],
   "source": [
    "x_train.shape"
   ]
  },
  {
   "cell_type": "code",
   "execution_count": 11,
   "metadata": {},
   "outputs": [],
   "source": [
    "y_train = to_categorical(label_train)\n",
    "y_test = to_categorical(label_test)"
   ]
  },
  {
   "cell_type": "markdown",
   "metadata": {},
   "source": [
    "# 模型训练"
   ]
  },
  {
   "cell_type": "code",
   "execution_count": 12,
   "metadata": {},
   "outputs": [],
   "source": [
    "#  使用gpu\n",
    "import os\n",
    "os.environ[\"CUDA_VISIBLE_DEVICES\"] = \"3\"\n",
    "\n",
    "# 设置定量的GPU使用量\n",
    "config = tf.ConfigProto()\n",
    "session = tf.Session(config=config)\n",
    "\n",
    "# 设置最少显存\n",
    "config = tf.ConfigProto()\n",
    "config.gpu_options.allow_growth = True"
   ]
  },
  {
   "cell_type": "code",
   "execution_count": 13,
   "metadata": {},
   "outputs": [],
   "source": [
    "class AttLayer(Layer):\n",
    "    def __init__(self, attention_dim, **kwargs):\n",
    "        self.init = initializers.get('normal')\n",
    "        self.supports_masking = True\n",
    "        self.attention_dim = attention_dim\n",
    "        super(AttLayer, self).__init__()\n",
    "\n",
    "    def build(self, input_shape):\n",
    "        assert len(input_shape) == 3\n",
    "        self.W = K.variable(self.init((input_shape[-1], self.attention_dim)))\n",
    "        self.b = K.variable(self.init((self.attention_dim, )))\n",
    "        self.u = K.variable(self.init((self.attention_dim, 1)))\n",
    "        self.trainable_weights = [self.W, self.b, self.u]\n",
    "        super(AttLayer, self).build(input_shape)\n",
    "\n",
    "    def compute_mask(self, inputs, mask=None):\n",
    "        return mask\n",
    "\n",
    "    def call(self, x, mask=None):\n",
    "        # size of x :[batch_size, sel_len, attention_dim]\n",
    "        # size of u :[batch_size, attention_dim]\n",
    "        # uit = tanh(xW+b)\n",
    "        uit = K.tanh(K.bias_add(K.dot(x, self.W), self.b))\n",
    "        ait = K.dot(uit, self.u)\n",
    "        ait = K.squeeze(ait, -1)\n",
    "\n",
    "        ait = K.exp(ait)\n",
    "\n",
    "        if mask is not None:\n",
    "            # Cast the mask to floatX to avoid float64 upcasting in theano\n",
    "            ait *= K.cast(mask, K.floatx())\n",
    "        ait /= K.cast(K.sum(ait, axis=1, keepdims=True) + K.epsilon(), K.floatx())\n",
    "        ait = K.expand_dims(ait)\n",
    "        weighted_input = x * ait\n",
    "        output = K.sum(weighted_input, axis=1)\n",
    "\n",
    "        return output\n",
    "\n",
    "    def compute_output_shape(self, input_shape):\n",
    "        return (input_shape[0], input_shape[-1])\n",
    "\n",
    "    def get_config(self):\n",
    "        config = {\n",
    "            'attention_dim': self.attention_dim\n",
    "        }\n",
    "        base_config = super(AttLayer, self).get_config()\n",
    "        return dict(list(base_config.items()) + list(config.items()))"
   ]
  },
  {
   "cell_type": "code",
   "execution_count": 14,
   "metadata": {},
   "outputs": [],
   "source": [
    "#HAN\n",
    "input_layer = Input(shape=(sequence_len,embedding_size), dtype='float')\n",
    "l_lstm = Bidirectional(GRU(10, return_sequences=True))(input_layer)\n",
    "l_att = AttLayer(10)(l_lstm)\n",
    "sentEncoder = Model(input_layer, l_att)\n",
    "review_input = Input(shape=(sequence_count,sequence_len,embedding_size), dtype='float')\n",
    "review_encoder = TimeDistributed(sentEncoder)(review_input)\n",
    "l_lstm_sent = Bidirectional(GRU(10, return_sequences=True))(review_encoder)\n",
    "l_att_sent = AttLayer(10)(l_lstm_sent)\n",
    "preds = Dense(len(label_names), activation='softmax')(l_att_sent)\n",
    "model = Model(review_input, preds)"
   ]
  },
  {
   "cell_type": "code",
   "execution_count": 15,
   "metadata": {},
   "outputs": [
    {
     "name": "stdout",
     "output_type": "stream",
     "text": [
      "Train on 5160 samples, validate on 574 samples\n",
      "Epoch 1/20\n",
      "5160/5160 [==============================] - 7s 1ms/step - loss: 3.3107 - acc: 0.1876 - val_loss: 2.8132 - val_acc: 0.2962\n",
      "Epoch 2/20\n",
      "5160/5160 [==============================] - 5s 947us/step - loss: 2.5775 - acc: 0.3599 - val_loss: 2.3468 - val_acc: 0.3833\n",
      "Epoch 3/20\n",
      "5160/5160 [==============================] - 5s 975us/step - loss: 2.2451 - acc: 0.4171 - val_loss: 2.1192 - val_acc: 0.4355\n",
      "Epoch 4/20\n",
      "5160/5160 [==============================] - 5s 967us/step - loss: 2.0456 - acc: 0.4527 - val_loss: 1.9791 - val_acc: 0.4774\n",
      "Epoch 5/20\n",
      "5160/5160 [==============================] - 5s 953us/step - loss: 1.8980 - acc: 0.4886 - val_loss: 1.8840 - val_acc: 0.4965\n",
      "Epoch 6/20\n",
      "5160/5160 [==============================] - 5s 997us/step - loss: 1.7846 - acc: 0.5132 - val_loss: 1.8023 - val_acc: 0.5000\n",
      "Epoch 7/20\n",
      "5160/5160 [==============================] - 5s 997us/step - loss: 1.6811 - acc: 0.5320 - val_loss: 1.7253 - val_acc: 0.5192\n",
      "Epoch 8/20\n",
      "5160/5160 [==============================] - 5s 981us/step - loss: 1.5878 - acc: 0.5566 - val_loss: 1.6854 - val_acc: 0.5383\n",
      "Epoch 9/20\n",
      "5160/5160 [==============================] - 5s 960us/step - loss: 1.5099 - acc: 0.5818 - val_loss: 1.6369 - val_acc: 0.5540\n",
      "Epoch 10/20\n",
      "5160/5160 [==============================] - 5s 946us/step - loss: 1.4344 - acc: 0.5981 - val_loss: 1.5980 - val_acc: 0.5592\n",
      "Epoch 11/20\n",
      "5160/5160 [==============================] - 5s 967us/step - loss: 1.3646 - acc: 0.6171 - val_loss: 1.6074 - val_acc: 0.5540\n",
      "Epoch 12/20\n",
      "5160/5160 [==============================] - 5s 958us/step - loss: 1.3139 - acc: 0.6273 - val_loss: 1.5720 - val_acc: 0.5540\n",
      "Epoch 13/20\n",
      "5160/5160 [==============================] - 5s 957us/step - loss: 1.2529 - acc: 0.6440 - val_loss: 1.5868 - val_acc: 0.5592\n",
      "Epoch 14/20\n",
      "5160/5160 [==============================] - 5s 959us/step - loss: 1.2047 - acc: 0.6595 - val_loss: 1.5629 - val_acc: 0.5645\n",
      "Epoch 15/20\n",
      "5160/5160 [==============================] - 5s 953us/step - loss: 1.1576 - acc: 0.6674 - val_loss: 1.5914 - val_acc: 0.5540\n",
      "Epoch 16/20\n",
      "5160/5160 [==============================] - 5s 971us/step - loss: 1.1112 - acc: 0.6822 - val_loss: 1.6018 - val_acc: 0.5523\n",
      "Epoch 17/20\n",
      "5160/5160 [==============================] - 5s 968us/step - loss: 1.0714 - acc: 0.6938 - val_loss: 1.5961 - val_acc: 0.5610\n",
      "Epoch 18/20\n",
      "5160/5160 [==============================] - 5s 947us/step - loss: 1.0342 - acc: 0.7029 - val_loss: 1.6043 - val_acc: 0.5662\n",
      "Epoch 19/20\n",
      "5160/5160 [==============================] - 5s 1ms/step - loss: 0.9981 - acc: 0.7141 - val_loss: 1.6341 - val_acc: 0.5697\n",
      "Epoch 20/20\n",
      "5160/5160 [==============================] - 5s 1ms/step - loss: 0.9609 - acc: 0.7203 - val_loss: 1.6383 - val_acc: 0.5453\n"
     ]
    }
   ],
   "source": [
    "model.compile(loss='categorical_crossentropy', optimizer='adam', metrics=['accuracy'])\n",
    "history=model.fit(x_train, y_train, batch_size=32, epochs=20,validation_split=0.1)"
   ]
  },
  {
   "cell_type": "code",
   "execution_count": 16,
   "metadata": {},
   "outputs": [
    {
     "data": {
      "text/plain": [
       "<matplotlib.legend.Legend at 0x7f1fa935c6d8>"
      ]
     },
     "execution_count": 16,
     "metadata": {},
     "output_type": "execute_result"
    },
    {
     "data": {
      "image/png": "[encoded data removed]",
      "text/plain": [
       "<Figure size 432x288 with 1 Axes>"
      ]
     },
     "metadata": {
      "needs_background": "light"
     },
     "output_type": "display_data"
    }
   ],
   "source": [
    "plt.plot(history.history[\"loss\"],label=\"loss\")\n",
    "plt.plot(history.history[\"acc\"],label=\"acc\")\n",
    "plt.xlabel('epoch')\n",
    "plt.legend()"
   ]
  },
  {
   "cell_type": "markdown",
   "metadata": {},
   "source": [
    "# 测试"
   ]
  },
  {
   "cell_type": "code",
   "execution_count": 17,
   "metadata": {},
   "outputs": [
    {
     "name": "stdout",
     "output_type": "stream",
     "text": [
      "              precision    recall  f1-score   support\n",
      "\n",
      "           0       0.54      0.81      0.65       254\n",
      "           1       0.65      0.69      0.67       374\n",
      "           2       0.35      0.51      0.42       310\n",
      "           3       0.34      0.44      0.38       280\n",
      "           4       0.55      0.61      0.58       276\n",
      "           5       0.60      0.61      0.61       175\n",
      "           6       0.50      0.55      0.52       159\n",
      "           7       0.39      0.45      0.42       190\n",
      "           8       0.26      0.09      0.14       164\n",
      "           9       0.26      0.19      0.22       113\n",
      "          10       0.68      0.77      0.72       145\n",
      "          11       0.46      0.74      0.57        47\n",
      "          12       0.15      0.18      0.16        28\n",
      "          13       0.49      0.51      0.50        83\n",
      "          14       0.00      0.00      0.00        60\n",
      "          15       0.00      0.00      0.00        24\n",
      "          16       0.64      0.79      0.71        85\n",
      "          17       0.32      0.45      0.37        31\n",
      "          18       0.48      0.56      0.52        54\n",
      "          19       0.73      0.76      0.75       130\n",
      "          20       0.52      0.37      0.43        38\n",
      "          21       0.00      0.00      0.00        58\n",
      "          22       0.44      0.80      0.57        20\n",
      "          23       1.00      0.02      0.04        50\n",
      "          24       0.53      0.50      0.51        58\n",
      "          25       0.00      0.00      0.00        29\n",
      "          26       0.42      0.22      0.29        50\n",
      "          27       0.00      0.00      0.00        14\n",
      "          28       0.00      0.00      0.00        19\n",
      "          29       0.50      0.38      0.43        48\n",
      "          30       0.35      0.41      0.38        27\n",
      "          31       0.36      0.22      0.27        23\n",
      "          32       0.57      0.35      0.43        23\n",
      "          33       0.00      0.00      0.00        20\n",
      "          34       0.46      0.61      0.53        31\n",
      "          35       0.12      0.07      0.09        14\n",
      "          36       0.00      0.00      0.00        34\n",
      "          37       0.33      0.08      0.13        24\n",
      "          38       0.24      0.36      0.29        11\n",
      "          39       0.00      0.00      0.00        12\n",
      "          40       0.50      0.25      0.33        12\n",
      "          41       0.00      0.00      0.00         5\n",
      "          42       0.00      0.00      0.00         6\n",
      "          43       0.00      0.00      0.00        32\n",
      "          44       0.09      0.06      0.07        16\n",
      "\n",
      "    accuracy                           0.49      3656\n",
      "   macro avg       0.33      0.32      0.30      3656\n",
      "weighted avg       0.45      0.49      0.45      3656\n",
      "\n"
     ]
    },
    {
     "name": "stderr",
     "output_type": "stream",
     "text": [
      "/home/weiyu/anaconda3/envs/tensorflow/lib/python3.6/site-packages/sklearn/metrics/_classification.py:1272: UndefinedMetricWarning: Precision and F-score are ill-defined and being set to 0.0 in labels with no predicted samples. Use `zero_division` parameter to control this behavior.\n",
      "  _warn_prf(average, modifier, msg_start, len(result))\n"
     ]
    }
   ],
   "source": [
    "result = model.predict(x_test)\n",
    "y_predict = np.argmax(result, axis=1) \n",
    "# y_predict = list(map(str, result_labels))\n",
    "# print(set(label_test)-set(y_predict))\n",
    "from sklearn.metrics import classification_report\n",
    "print(classification_report(y_pred= y_predict, y_true=label_test))"
   ]
  },
  {
   "cell_type": "code",
   "execution_count": null,
   "metadata": {},
   "outputs": [],
   "source": []
  },
  {
   "cell_type": "code",
   "execution_count": null,
   "metadata": {},
   "outputs": [],
   "source": []
  }
 ],
 "metadata": {
  "kernelspec": {
   "display_name": "tensorflow",
   "language": "python",
   "name": "tensorflow"
  },
  "language_info": {
   "codemirror_mode": {
    "name": "ipython",
    "version": 3
   },
   "file_extension": ".py",
   "mimetype": "text/x-python",
   "name": "python",
   "nbconvert_exporter": "python",
   "pygments_lexer": "ipython3",
   "version": "3.6.10"
  }
 },
 "nbformat": 4,
 "nbformat_minor": 2
}
