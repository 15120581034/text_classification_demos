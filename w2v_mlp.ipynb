{
 "cells": [
  {
   "cell_type": "code",
   "execution_count": 1,
   "metadata": {},
   "outputs": [],
   "source": [
    "import numpy as np\n",
    "import pandas as pd\n",
    "import pickle\n",
    "import os\n",
    "import jieba"
   ]
  },
  {
   "cell_type": "markdown",
   "metadata": {},
   "source": [
    "# load data"
   ]
  },
  {
   "cell_type": "code",
   "execution_count": 2,
   "metadata": {},
   "outputs": [],
   "source": [
    "with open(\"./data/data_input.pkl\", \"rb\") as f:\n",
    "    text_train, label_train, text_test, label_test, label_names = pickle.load(f)"
   ]
  },
  {
   "cell_type": "markdown",
   "metadata": {},
   "source": [
    "# 分词"
   ]
  },
  {
   "cell_type": "code",
   "execution_count": 3,
   "metadata": {},
   "outputs": [],
   "source": [
    "def text_to_tokens(text, stop_words = []):\n",
    "    \"\"\"\n",
    "    text: 需要分词的文本\n",
    "    stop_words: 停用词表，如果有的话\n",
    "    \"\"\"\n",
    "    words = jieba.cut(text)\n",
    "    tokens = [word for word in words if word not in stop_words]\n",
    "    return tokens"
   ]
  },
  {
   "cell_type": "code",
   "execution_count": 4,
   "metadata": {},
   "outputs": [
    {
     "name": "stderr",
     "output_type": "stream",
     "text": [
      "Building prefix dict from the default dictionary ...\n",
      "Loading model from cache /tmp/jieba.cache\n",
      "Dumping model to file cache /tmp/jieba.cache\n",
      "Dump cache file failed.\n",
      "Traceback (most recent call last):\n",
      "  File \"/home/mengzhen/python3-tf-gpu/lib/python3.6/site-packages/jieba/__init__.py\", line 152, in initialize\n",
      "    _replace_file(fpath, cache_file)\n",
      "PermissionError: [Errno 1] Operation not permitted: '/tmp/tmp4l_2yqbe' -> '/tmp/jieba.cache'\n",
      "Loading model cost 2.368 seconds.\n",
      "Prefix dict has been built succesfully.\n"
     ]
    }
   ],
   "source": [
    "train_tokens = np.array([text_to_tokens(text) for text in text_train])\n",
    "test_tokens = np.array([text_to_tokens(text) for text in text_test])"
   ]
  },
  {
   "cell_type": "code",
   "execution_count": 6,
   "metadata": {},
   "outputs": [
    {
     "name": "stdout",
     "output_type": "stream",
     "text": [
      "train size:  (5734,)\n",
      "test size:  (3656,)\n"
     ]
    }
   ],
   "source": [
    "print(\"train size: \", train_tokens.shape)\n",
    "print(\"test size: \", test_tokens.shape)"
   ]
  },
  {
   "cell_type": "markdown",
   "metadata": {},
   "source": [
    "# fasttext 表征文本"
   ]
  },
  {
   "cell_type": "code",
   "execution_count": 15,
   "metadata": {},
   "outputs": [],
   "source": [
    "import fasttext\n",
    "\n",
    "# model path \n",
    "PROJECT_HOME = \"/usr/lib/carter/carter-predictor/\"\n",
    "PRETRAINED_MODEL_PATH = PROJECT_HOME + \"pretrained_models/\"\n",
    "FT_MODEL_NAME = 'event_corpus_20181112_fasttext_vec300_epoch50.bin'\n",
    "\n",
    "# load fasttext model\n",
    "ft_model = fasttext.load_model(PRETRAINED_MODEL_PATH + FT_MODEL_NAME)\n",
    "embedding_dim = len(ft_model[\"上海\"])"
   ]
  },
  {
   "cell_type": "code",
   "execution_count": 21,
   "metadata": {},
   "outputs": [
    {
     "name": "stdout",
     "output_type": "stream",
     "text": [
      "embedding dim: 300\n"
     ]
    }
   ],
   "source": [
    "print(\"embedding dim:\", embedding_dim)"
   ]
  },
  {
   "cell_type": "code",
   "execution_count": 25,
   "metadata": {},
   "outputs": [],
   "source": [
    "# 词向量均值作为特征\n",
    "def get_fasttext_avg(tokens_list, model):\n",
    "    cnt = 0\n",
    "    embedding = np.zeros(embedding_dim)\n",
    "    for token in tokens_list:\n",
    "        if token in model.words:\n",
    "            embedding += model[token]\n",
    "            cnt += 1\n",
    "    return embedding/cnt"
   ]
  },
  {
   "cell_type": "code",
   "execution_count": 26,
   "metadata": {},
   "outputs": [],
   "source": [
    "X_train = np.array([get_fasttext_avg(tokens, ft_model) for tokens in train_tokens])\n",
    "X_test = np.array([get_fasttext_avg(tokens, ft_model) for tokens in test_tokens])"
   ]
  },
  {
   "cell_type": "code",
   "execution_count": 27,
   "metadata": {},
   "outputs": [
    {
     "name": "stdout",
     "output_type": "stream",
     "text": [
      "data train shape:  (5734, 300)\n",
      "data test shape:  (3656, 300)\n"
     ]
    }
   ],
   "source": [
    "print(\"data train shape: \", X_train.shape)\n",
    "print(\"data test shape: \", X_test.shape)"
   ]
  },
  {
   "cell_type": "markdown",
   "metadata": {},
   "source": [
    "# 训练分类模型"
   ]
  },
  {
   "cell_type": "code",
   "execution_count": 41,
   "metadata": {
    "scrolled": true
   },
   "outputs": [],
   "source": [
    "from keras.layers import Dense, Input, Dropout\n",
    "from keras.models import Model\n",
    "from keras.utils import to_categorical\n",
    "import tensorflow as tf\n",
    "from keras.optimizers import Adam\n"
   ]
  },
  {
   "cell_type": "code",
   "execution_count": 38,
   "metadata": {},
   "outputs": [],
   "source": [
    "# 使用gpu\n",
    "import os\n",
    "os.environ[\"CUDA_VISIBLE_DEVICES\"] = \"3\"\n",
    "\n",
    "# 设置定量的GPU使用量\n",
    "config = tf.ConfigProto()\n",
    "session = tf.Session(config=config)\n",
    "\n",
    "# 设置最少显存\n",
    "config = tf.ConfigProto()\n",
    "config.gpu_options.allow_growth = True"
   ]
  },
  {
   "cell_type": "code",
   "execution_count": 36,
   "metadata": {},
   "outputs": [],
   "source": [
    "Y_train = to_categorical(label_train)\n",
    "Y_test = to_categorical(label_test)"
   ]
  },
  {
   "cell_type": "code",
   "execution_count": 115,
   "metadata": {},
   "outputs": [],
   "source": [
    "input_layer = Input(shape=(embedding_dim,), dtype=float)\n",
    "dense_layer = Dense(units=64)(input_layer)\n",
    "dropout_layer = Dropout(rate=0.2)(dense_layer)\n",
    "output_layer = Dense(units=len(label_names), activation=\"softmax\")(dropout_layer)\n",
    "\n",
    "model = Model(input_layer, output_layer)"
   ]
  },
  {
   "cell_type": "code",
   "execution_count": 116,
   "metadata": {},
   "outputs": [],
   "source": [
    "optimizer=Adam(lr=0.01)\n",
    "model.compile(optimizer, loss='categorical_crossentropy', metrics=[\"accuracy\"])"
   ]
  },
  {
   "cell_type": "code",
   "execution_count": 117,
   "metadata": {
    "scrolled": true
   },
   "outputs": [
    {
     "name": "stdout",
     "output_type": "stream",
     "text": [
      "Train on 5160 samples, validate on 574 samples\n",
      "Epoch 1/20\n",
      "5160/5160 [==============================] - 2s 415us/step - loss: 2.0037 - acc: 0.4424 - val_loss: 1.5132 - val_acc: 0.5314\n",
      "Epoch 2/20\n",
      "5160/5160 [==============================] - 1s 141us/step - loss: 1.5007 - acc: 0.5523 - val_loss: 1.4188 - val_acc: 0.5540\n",
      "Epoch 3/20\n",
      "5160/5160 [==============================] - 1s 119us/step - loss: 1.4370 - acc: 0.5556 - val_loss: 1.3968 - val_acc: 0.5784\n",
      "Epoch 4/20\n",
      "5160/5160 [==============================] - 1s 150us/step - loss: 1.3633 - acc: 0.5824 - val_loss: 1.3638 - val_acc: 0.5836\n",
      "Epoch 5/20\n",
      "5160/5160 [==============================] - 1s 169us/step - loss: 1.3000 - acc: 0.5903 - val_loss: 1.4058 - val_acc: 0.5592\n",
      "Epoch 6/20\n",
      "5160/5160 [==============================] - 1s 142us/step - loss: 1.2634 - acc: 0.6037 - val_loss: 1.3602 - val_acc: 0.5923\n",
      "Epoch 7/20\n",
      "5160/5160 [==============================] - 1s 133us/step - loss: 1.2378 - acc: 0.6110 - val_loss: 1.3955 - val_acc: 0.5889\n",
      "Epoch 8/20\n",
      "5160/5160 [==============================] - 1s 155us/step - loss: 1.1982 - acc: 0.6128 - val_loss: 1.4002 - val_acc: 0.5679\n",
      "Epoch 9/20\n",
      "5160/5160 [==============================] - 1s 156us/step - loss: 1.1790 - acc: 0.6242 - val_loss: 1.4451 - val_acc: 0.5662\n",
      "Epoch 10/20\n",
      "5160/5160 [==============================] - 1s 135us/step - loss: 1.1718 - acc: 0.6252 - val_loss: 1.4486 - val_acc: 0.5610\n",
      "Epoch 11/20\n",
      "5160/5160 [==============================] - 1s 125us/step - loss: 1.1389 - acc: 0.6324 - val_loss: 1.4704 - val_acc: 0.5331\n",
      "Epoch 12/20\n",
      "5160/5160 [==============================] - 1s 151us/step - loss: 1.1178 - acc: 0.6391 - val_loss: 1.4224 - val_acc: 0.5941\n",
      "Epoch 13/20\n",
      "5160/5160 [==============================] - 1s 159us/step - loss: 1.0952 - acc: 0.6422 - val_loss: 1.4710 - val_acc: 0.5592\n",
      "Epoch 14/20\n",
      "5160/5160 [==============================] - 1s 156us/step - loss: 1.0697 - acc: 0.6552 - val_loss: 1.4073 - val_acc: 0.5958\n",
      "Epoch 15/20\n",
      "5160/5160 [==============================] - 1s 124us/step - loss: 1.0609 - acc: 0.6519 - val_loss: 1.4218 - val_acc: 0.5732\n",
      "Epoch 16/20\n",
      "5160/5160 [==============================] - 1s 159us/step - loss: 1.0465 - acc: 0.6626 - val_loss: 1.4782 - val_acc: 0.5627\n",
      "Epoch 17/20\n",
      "5160/5160 [==============================] - 1s 154us/step - loss: 1.0532 - acc: 0.6568 - val_loss: 1.4954 - val_acc: 0.6045\n",
      "Epoch 18/20\n",
      "5160/5160 [==============================] - 1s 144us/step - loss: 1.0198 - acc: 0.6614 - val_loss: 1.5125 - val_acc: 0.5627\n",
      "Epoch 19/20\n",
      "5160/5160 [==============================] - 1s 119us/step - loss: 1.0231 - acc: 0.6622 - val_loss: 1.5194 - val_acc: 0.6028\n",
      "Epoch 20/20\n",
      "5160/5160 [==============================] - 1s 150us/step - loss: 1.0194 - acc: 0.6634 - val_loss: 1.5590 - val_acc: 0.5679\n"
     ]
    }
   ],
   "source": [
    "history = model.fit(x=X_train, y=Y_train, batch_size=32, epochs=20, validation_split=0.1)"
   ]
  },
  {
   "cell_type": "code",
   "execution_count": 118,
   "metadata": {},
   "outputs": [],
   "source": [
    "# 训练过程\n",
    "import matplotlib.pyplot as plt\n",
    "def plot_accuracy(history):\n",
    "    fig = plt.figure()\n",
    "#     plt.subplot(121)\n",
    "    plt.plot(history.history['acc'],label='training acc')\n",
    "    plt.plot(history.history['val_acc'],label='val acc')\n",
    "    plt.title('model accuracy')\n",
    "    plt.ylabel('accuracy')\n",
    "    plt.xlabel('epoch')\n",
    "    plt.legend(loc='lower right')\n",
    "    plt.show()\n",
    "    \n",
    "def plot_loss(history):\n",
    "#     plt.subplot(121)\n",
    "    fig = plt.figure()\n",
    "    plt.plot(history.history['loss'],label='training loss')\n",
    "    plt.plot(history.history['val_loss'], label='val loss')\n",
    "    plt.title('model loss')\n",
    "    plt.ylabel('loss')\n",
    "    plt.xlabel('epoch')\n",
    "    plt.legend(loc='upper right')\n",
    "    plt.show()\n"
   ]
  },
  {
   "cell_type": "code",
   "execution_count": 119,
   "metadata": {},
   "outputs": [
    {
     "data": {
      "image/png": "[encoded data removed]",
      "text/plain": [
       "<Figure size 432x288 with 1 Axes>"
      ]
     },
     "metadata": {
      "needs_background": "light"
     },
     "output_type": "display_data"
    }
   ],
   "source": [
    "plot_accuracy(history)"
   ]
  },
  {
   "cell_type": "code",
   "execution_count": 120,
   "metadata": {},
   "outputs": [
    {
     "data": {
      "image/png": "[encoded data removed]",
      "text/plain": [
       "<Figure size 432x288 with 1 Axes>"
      ]
     },
     "metadata": {
      "needs_background": "light"
     },
     "output_type": "display_data"
    }
   ],
   "source": [
    "plot_loss(history)"
   ]
  },
  {
   "cell_type": "markdown",
   "metadata": {},
   "source": [
    "# test"
   ]
  },
  {
   "cell_type": "code",
   "execution_count": 105,
   "metadata": {},
   "outputs": [],
   "source": [
    "# predict probability\n",
    "test_prob = model.predict(X_test)"
   ]
  },
  {
   "cell_type": "code",
   "execution_count": 106,
   "metadata": {},
   "outputs": [],
   "source": [
    "test_pred = [np.argmax(prob) for prob in test_prob]"
   ]
  },
  {
   "cell_type": "markdown",
   "metadata": {},
   "source": [
    "# evaluation"
   ]
  },
  {
   "cell_type": "code",
   "execution_count": 107,
   "metadata": {},
   "outputs": [
    {
     "name": "stdout",
     "output_type": "stream",
     "text": [
      "              precision    recall  f1-score   support\n",
      "\n",
      "           0       0.53      0.83      0.65       254\n",
      "           1       0.68      0.66      0.67       374\n",
      "           2       0.39      0.45      0.42       310\n",
      "           3       0.39      0.37      0.38       280\n",
      "           4       0.51      0.79      0.62       276\n",
      "           5       0.57      0.79      0.66       175\n",
      "           6       0.62      0.62      0.62       159\n",
      "           7       0.38      0.55      0.45       190\n",
      "           8       0.28      0.06      0.10       164\n",
      "           9       0.30      0.06      0.10       113\n",
      "          10       0.74      0.81      0.77       145\n",
      "          11       0.53      0.55      0.54        47\n",
      "          12       0.18      0.39      0.24        28\n",
      "          13       0.62      0.73      0.67        83\n",
      "          14       0.41      0.12      0.18        60\n",
      "          15       0.33      0.04      0.07        24\n",
      "          16       0.70      0.61      0.65        85\n",
      "          17       0.37      0.35      0.36        31\n",
      "          18       0.75      0.17      0.27        54\n",
      "          19       0.80      0.82      0.81       130\n",
      "          20       0.36      0.34      0.35        38\n",
      "          21       0.56      0.09      0.15        58\n",
      "          22       0.67      0.80      0.73        20\n",
      "          23       0.29      0.18      0.22        50\n",
      "          24       0.75      0.74      0.75        58\n",
      "          25       0.00      0.00      0.00        29\n",
      "          26       0.41      0.34      0.37        50\n",
      "          27       0.00      0.00      0.00        14\n",
      "          28       0.50      0.05      0.10        19\n",
      "          29       0.68      0.48      0.56        48\n",
      "          30       0.38      0.59      0.46        27\n",
      "          31       0.40      0.43      0.42        23\n",
      "          32       0.54      0.57      0.55        23\n",
      "          33       0.00      0.00      0.00        20\n",
      "          34       0.68      0.42      0.52        31\n",
      "          35       1.00      0.14      0.25        14\n",
      "          36       0.45      0.15      0.22        34\n",
      "          37       0.41      0.58      0.48        24\n",
      "          38       0.36      0.73      0.48        11\n",
      "          39       0.04      0.08      0.06        12\n",
      "          40       0.00      0.00      0.00        12\n",
      "          41       0.33      0.20      0.25         5\n",
      "          42       0.12      0.17      0.14         6\n",
      "          43       0.56      0.16      0.24        32\n",
      "          44       0.50      0.06      0.11        16\n",
      "\n",
      "   micro avg       0.52      0.52      0.52      3656\n",
      "   macro avg       0.45      0.38      0.37      3656\n",
      "weighted avg       0.51      0.52      0.49      3656\n",
      "\n"
     ]
    }
   ],
   "source": [
    "from sklearn.metrics import classification_report\n",
    "print(classification_report(y_pred= test_pred, y_true=label_test))"
   ]
  },
  {
   "cell_type": "code",
   "execution_count": null,
   "metadata": {},
   "outputs": [],
   "source": []
  }
 ],
 "metadata": {
  "kernelspec": {
   "display_name": "python3-tf-gpu",
   "language": "python",
   "name": "python3-tf-gpu"
  },
  "language_info": {
   "codemirror_mode": {
    "name": "ipython",
    "version": 3
   },
   "file_extension": ".py",
   "mimetype": "text/x-python",
   "name": "python",
   "nbconvert_exporter": "python",
   "pygments_lexer": "ipython3",
   "version": "3.6.6"
  }
 },
 "nbformat": 4,
 "nbformat_minor": 2
}
