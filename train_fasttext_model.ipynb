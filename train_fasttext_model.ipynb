{
 "cells": [
  {
   "cell_type": "code",
   "execution_count": 1,
   "metadata": {},
   "outputs": [
    {
     "name": "stderr",
     "output_type": "stream",
     "text": [
      "/home/weiyu/anaconda3/envs/tensorflow/lib/python3.6/site-packages/tensorflow/python/framework/dtypes.py:523: FutureWarning: Passing (type, 1) or '1type' as a synonym of type is deprecated; in a future version of numpy, it will be understood as (type, (1,)) / '(1,)type'.\n",
      "  _np_qint8 = np.dtype([(\"qint8\", np.int8, 1)])\n",
      "/home/weiyu/anaconda3/envs/tensorflow/lib/python3.6/site-packages/tensorflow/python/framework/dtypes.py:524: FutureWarning: Passing (type, 1) or '1type' as a synonym of type is deprecated; in a future version of numpy, it will be understood as (type, (1,)) / '(1,)type'.\n",
      "  _np_quint8 = np.dtype([(\"quint8\", np.uint8, 1)])\n",
      "/home/weiyu/anaconda3/envs/tensorflow/lib/python3.6/site-packages/tensorflow/python/framework/dtypes.py:525: FutureWarning: Passing (type, 1) or '1type' as a synonym of type is deprecated; in a future version of numpy, it will be understood as (type, (1,)) / '(1,)type'.\n",
      "  _np_qint16 = np.dtype([(\"qint16\", np.int16, 1)])\n",
      "/home/weiyu/anaconda3/envs/tensorflow/lib/python3.6/site-packages/tensorflow/python/framework/dtypes.py:526: FutureWarning: Passing (type, 1) or '1type' as a synonym of type is deprecated; in a future version of numpy, it will be understood as (type, (1,)) / '(1,)type'.\n",
      "  _np_quint16 = np.dtype([(\"quint16\", np.uint16, 1)])\n",
      "/home/weiyu/anaconda3/envs/tensorflow/lib/python3.6/site-packages/tensorflow/python/framework/dtypes.py:527: FutureWarning: Passing (type, 1) or '1type' as a synonym of type is deprecated; in a future version of numpy, it will be understood as (type, (1,)) / '(1,)type'.\n",
      "  _np_qint32 = np.dtype([(\"qint32\", np.int32, 1)])\n",
      "/home/weiyu/anaconda3/envs/tensorflow/lib/python3.6/site-packages/tensorflow/python/framework/dtypes.py:532: FutureWarning: Passing (type, 1) or '1type' as a synonym of type is deprecated; in a future version of numpy, it will be understood as (type, (1,)) / '(1,)type'.\n",
      "  np_resource = np.dtype([(\"resource\", np.ubyte, 1)])\n"
     ]
    }
   ],
   "source": [
    "import pandas as pd\n",
    "import jieba\n",
    "import tensorflow as tf\n",
    "import pickle\n",
    "import numpy as np\n",
    "import fasttext"
   ]
  },
  {
   "cell_type": "code",
   "execution_count": 2,
   "metadata": {},
   "outputs": [],
   "source": [
    "#数据集\n",
    "with open(\"./data/data_input.pkl\", \"rb\") as f:\n",
    "    x_train, y_train, x_test, y_test, y_names = pickle.load(f)"
   ]
  },
  {
   "cell_type": "code",
   "execution_count": 3,
   "metadata": {},
   "outputs": [],
   "source": [
    "#加载停用词\n",
    "stopwords=pd.read_csv(\"./data/stopwords.txt\",index_col=False,quoting=3,sep=\"\\t\",names=['stopword'], encoding='utf-8')\n",
    "stopwords=stopwords['stopword'].values"
   ]
  },
  {
   "cell_type": "code",
   "execution_count": 4,
   "metadata": {},
   "outputs": [],
   "source": [
    "#文本预处理\n",
    "def preprocess_text(lines):\n",
    "    sentences=[]\n",
    "    for line in lines:\n",
    "        segs = jieba.cut(line)\n",
    "        segs = [x for x in segs if x not in stopwords]\n",
    "        sentences.append(\" \".join(segs))\n",
    "    return sentences"
   ]
  },
  {
   "cell_type": "code",
   "execution_count": 5,
   "metadata": {},
   "outputs": [],
   "source": [
    "text=np.append(x_train,x_test)"
   ]
  },
  {
   "cell_type": "code",
   "execution_count": 6,
   "metadata": {},
   "outputs": [
    {
     "name": "stderr",
     "output_type": "stream",
     "text": [
      "Building prefix dict from the default dictionary ...\n",
      "Loading model from cache /tmp/jieba.cache\n",
      "Dumping model to file cache /tmp/jieba.cache\n",
      "Dump cache file failed.\n",
      "Traceback (most recent call last):\n",
      "  File \"/home/weiyu/anaconda3/envs/tensorflow/lib/python3.6/site-packages/jieba/__init__.py\", line 154, in initialize\n",
      "    _replace_file(fpath, cache_file)\n",
      "PermissionError: [Errno 1] Operation not permitted: '/tmp/tmp4fmjpziu' -> '/tmp/jieba.cache'\n",
      "Loading model cost 0.932 seconds.\n",
      "Prefix dict has been built successfully.\n"
     ]
    }
   ],
   "source": [
    "sentences=preprocess_text(text)"
   ]
  },
  {
   "cell_type": "code",
   "execution_count": 7,
   "metadata": {},
   "outputs": [
    {
     "name": "stdout",
     "output_type": "stream",
     "text": [
      "writing data to fasttext format...\n",
      "done!\n"
     ]
    }
   ],
   "source": [
    "#写入文件\n",
    "print(\"writing data to fasttext format...\")\n",
    "with open('./data/fasttext_train_data.txt', 'w',encoding=\"utf-8\") as f:\n",
    "    for sentence in sentences:\n",
    "        f.write(sentence+\"\\n\")\n",
    "print(\"done!\")"
   ]
  },
  {
   "cell_type": "code",
   "execution_count": 8,
   "metadata": {},
   "outputs": [],
   "source": [
    "#训练模型\n",
    "model = fasttext.train_unsupervised('./data/fasttext_train_data.txt', model='skipgram',dim=300)"
   ]
  },
  {
   "cell_type": "code",
   "execution_count": 9,
   "metadata": {},
   "outputs": [],
   "source": [
    "#保存模型\n",
    "model.save_model(\"./model/model_fasttext.bin\")"
   ]
  },
  {
   "cell_type": "code",
   "execution_count": 11,
   "metadata": {},
   "outputs": [
    {
     "name": "stderr",
     "output_type": "stream",
     "text": [
      "\n"
     ]
    }
   ],
   "source": [
    "#加载模型\n",
    "model=fasttext.load_model(\"./model/model_fasttext.bin\")"
   ]
  },
  {
   "cell_type": "code",
   "execution_count": 12,
   "metadata": {},
   "outputs": [
    {
     "data": {
      "text/plain": [
       "array([-8.65220558e-03,  1.27840685e-02,  3.27725485e-02,  3.02627217e-02,\n",
       "        3.10880877e-02,  6.65985374e-03, -1.93378534e-02,  1.14236772e-02,\n",
       "       -2.08870638e-02,  2.14096084e-02,  2.74194311e-02, -6.19994337e-03,\n",
       "        6.27359841e-03, -1.35884227e-04, -9.27215721e-03,  1.29788986e-03,\n",
       "       -5.62878326e-03,  1.25813931e-02, -2.24809702e-02,  1.01647861e-02,\n",
       "        1.63818747e-02,  1.56354923e-02, -2.25937609e-02, -1.19143836e-02,\n",
       "       -1.03489254e-02,  1.63564552e-02,  9.45475604e-03,  7.93199241e-03,\n",
       "       -4.77200374e-03,  1.45203983e-02, -2.13111248e-02,  2.71998942e-02,\n",
       "        4.51477468e-02, -3.61790950e-03, -6.25294913e-03,  1.19940471e-02,\n",
       "        2.54931282e-02, -2.04991922e-02, -8.68513994e-03, -3.20291482e-02,\n",
       "        2.08181515e-02,  2.88846642e-02, -2.38480489e-03,  1.36618139e-02,\n",
       "       -4.43088589e-03,  1.94551982e-02, -1.03263473e-02,  1.93904247e-02,\n",
       "       -2.77720988e-02,  3.09078135e-02, -1.20799914e-02, -1.17946146e-02,\n",
       "        3.83361094e-02,  8.34940746e-03,  2.51340903e-02,  1.51348114e-02,\n",
       "       -1.91555377e-02,  1.18714692e-02, -4.30501346e-03, -2.33373139e-02,\n",
       "       -2.70153619e-02, -4.31183204e-02, -3.87943946e-02,  4.43530269e-03,\n",
       "        6.80854768e-02, -1.84212439e-02, -1.77717321e-02,  5.41722914e-03,\n",
       "       -3.87892500e-03,  4.39585093e-03,  4.29908596e-02, -5.78722917e-03,\n",
       "        3.69326584e-03,  1.17735844e-02, -2.00450839e-03, -4.02324088e-02,\n",
       "        1.74195413e-02, -2.65679043e-02, -7.19748531e-03, -8.95349588e-03,\n",
       "       -9.86122433e-03,  1.51876137e-02, -2.91888453e-02, -5.89763522e-02,\n",
       "        4.90212403e-02, -8.14983156e-03,  2.23198743e-03,  4.41247560e-02,\n",
       "       -6.30998164e-02, -2.88114529e-02,  4.66834158e-02, -2.24741735e-02,\n",
       "        5.10125747e-03,  4.04421752e-03, -1.93744097e-02, -3.20887938e-03,\n",
       "       -7.37910205e-03,  4.83589880e-02, -4.13946174e-02,  4.74160612e-02,\n",
       "       -2.97578312e-02, -1.98755097e-02, -2.43536243e-03,  3.68324928e-02,\n",
       "       -3.12530175e-02, -3.04831713e-02, -5.28231375e-02,  3.06747742e-02,\n",
       "       -2.85110958e-02,  2.30639870e-03,  4.03340459e-02,  3.48743685e-02,\n",
       "       -1.79041631e-03, -5.11303125e-03, -2.80618463e-02,  2.87241917e-02,\n",
       "       -9.70964506e-03, -4.23765741e-02, -5.40349558e-02,  1.20093478e-02,\n",
       "        3.91843170e-02,  2.45095175e-02,  6.38876250e-03,  4.50399928e-02,\n",
       "        5.84573578e-03, -3.68458070e-02,  3.39003205e-02,  2.09151651e-03,\n",
       "       -2.47328337e-02, -3.09482752e-03, -1.97788384e-02, -2.25006435e-02,\n",
       "       -1.64631456e-02, -4.40313108e-02, -4.98656929e-02,  3.96319963e-02,\n",
       "       -2.52179708e-02, -3.83473784e-02,  2.07572663e-03,  1.10624172e-02,\n",
       "        1.67950813e-04,  2.07972284e-02, -3.17509510e-02, -1.27882203e-02,\n",
       "       -2.11845040e-02,  2.83657312e-02,  1.59468856e-02, -3.34815681e-02,\n",
       "        1.14265056e-02,  6.31774357e-03, -1.49401044e-02,  1.02543896e-02,\n",
       "        2.96224393e-02,  2.86864992e-02,  1.73031799e-02, -1.25634167e-02,\n",
       "        4.12214361e-02,  2.26753261e-02, -7.92768877e-03, -9.02387593e-03,\n",
       "       -2.95712445e-02,  3.68838124e-02,  2.29576565e-02, -2.07646787e-02,\n",
       "       -1.68536101e-02, -2.10184362e-02, -4.64541093e-02,  2.38213688e-02,\n",
       "        4.27433243e-03, -2.44134255e-02, -2.46563205e-03,  1.54625799e-03,\n",
       "        2.28406377e-02,  1.20311612e-02,  4.62946109e-02,  2.50753178e-03,\n",
       "       -2.22475957e-02,  1.49234477e-02,  1.08487380e-03, -3.34009454e-02,\n",
       "        2.72679087e-02, -3.67001980e-03,  5.78348041e-02, -7.13112205e-03,\n",
       "       -2.67982250e-03,  1.31371170e-02, -1.63261276e-02, -5.26189804e-02,\n",
       "        3.30390297e-02,  2.85610557e-02, -5.02868295e-02, -1.43332826e-02,\n",
       "        2.54649520e-02,  3.35420333e-02, -1.55420695e-02, -5.43296291e-03,\n",
       "       -1.41395098e-02, -7.55914021e-03,  6.57569570e-03,  4.78799604e-02,\n",
       "       -1.53569151e-02,  2.03769729e-02,  4.39849719e-02, -1.94455534e-02,\n",
       "       -4.10253368e-02, -2.36905236e-02, -1.12191429e-02,  1.23297982e-02,\n",
       "        2.73792949e-02, -6.75821630e-03, -1.42144796e-03,  3.02844821e-03,\n",
       "       -7.27497861e-02,  3.92666049e-02, -8.21787398e-03,  2.34081130e-02,\n",
       "        1.05523784e-02,  3.67237441e-02,  1.34817278e-02,  4.22155522e-02,\n",
       "        1.10889338e-02, -5.82536508e-04, -1.57341603e-02,  2.43232306e-02,\n",
       "        2.08979808e-02,  1.26026226e-02, -1.08270226e-02, -1.70656126e-02,\n",
       "       -6.90992689e-03, -1.03422431e-02,  1.78900566e-02,  5.31328805e-02,\n",
       "        3.01322620e-02,  2.15750048e-03,  2.77428515e-02,  2.66077574e-02,\n",
       "       -4.20121057e-03,  1.87909082e-02, -3.81299295e-02, -1.57381054e-02,\n",
       "       -1.85169578e-02, -3.47115584e-02,  6.79151667e-03, -4.89487387e-02,\n",
       "        4.82991226e-02, -7.60324001e-02, -3.76787707e-02,  8.67837574e-03,\n",
       "        9.40628350e-03, -3.57132609e-04,  3.39002758e-02,  1.02364523e-02,\n",
       "        1.91714149e-02,  2.64050663e-02,  1.41732320e-02, -3.52734141e-02,\n",
       "       -7.49907363e-03, -2.13710740e-02, -2.22747829e-02,  2.24879873e-03,\n",
       "       -3.12405284e-02,  1.33282980e-02,  2.88138515e-03, -9.78800235e-04,\n",
       "        2.88630929e-02,  3.30774225e-02,  2.41346639e-02, -8.47063056e-05,\n",
       "       -4.62675188e-03,  2.66411505e-03,  2.10553687e-02,  1.93177424e-02,\n",
       "        3.50240408e-03, -1.00542270e-02,  1.83414631e-02,  4.03738432e-02,\n",
       "        1.82252061e-02,  4.38622534e-02,  3.48771550e-02,  1.45182135e-02,\n",
       "        8.91147368e-03, -1.01590287e-02, -2.82929302e-03, -2.64170468e-02,\n",
       "       -2.83398032e-02, -1.77347697e-02, -9.26627405e-03, -1.91303827e-02,\n",
       "        1.53176486e-02,  3.84847783e-02, -2.10136063e-02,  1.35005591e-02,\n",
       "        5.32146310e-03,  4.22941847e-03, -2.39347015e-02,  4.08639479e-03,\n",
       "        2.89158225e-02, -8.94963741e-03,  2.73674130e-02, -1.76967289e-02],\n",
       "      dtype=float32)"
      ]
     },
     "execution_count": 12,
     "metadata": {},
     "output_type": "execute_result"
    }
   ],
   "source": [
    "model[\"test\"]"
   ]
  },
  {
   "cell_type": "code",
   "execution_count": null,
   "metadata": {},
   "outputs": [],
   "source": []
  }
 ],
 "metadata": {
  "kernelspec": {
   "display_name": "tensorflow",
   "language": "python",
   "name": "tensorflow"
  },
  "language_info": {
   "codemirror_mode": {
    "name": "ipython",
    "version": 3
   },
   "file_extension": ".py",
   "mimetype": "text/x-python",
   "name": "python",
   "nbconvert_exporter": "python",
   "pygments_lexer": "ipython3",
   "version": "3.6.10"
  }
 },
 "nbformat": 4,
 "nbformat_minor": 2
}
