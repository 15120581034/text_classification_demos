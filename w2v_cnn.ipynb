{
 "cells": [
  {
   "cell_type": "code",
   "execution_count": 1,
   "metadata": {},
   "outputs": [
    {
     "name": "stderr",
     "output_type": "stream",
     "text": [
      "/home/weiyu/anaconda3/envs/tensorflow/lib/python3.6/site-packages/tensorflow/python/framework/dtypes.py:523: FutureWarning: Passing (type, 1) or '1type' as a synonym of type is deprecated; in a future version of numpy, it will be understood as (type, (1,)) / '(1,)type'.\n",
      "  _np_qint8 = np.dtype([(\"qint8\", np.int8, 1)])\n",
      "/home/weiyu/anaconda3/envs/tensorflow/lib/python3.6/site-packages/tensorflow/python/framework/dtypes.py:524: FutureWarning: Passing (type, 1) or '1type' as a synonym of type is deprecated; in a future version of numpy, it will be understood as (type, (1,)) / '(1,)type'.\n",
      "  _np_quint8 = np.dtype([(\"quint8\", np.uint8, 1)])\n",
      "/home/weiyu/anaconda3/envs/tensorflow/lib/python3.6/site-packages/tensorflow/python/framework/dtypes.py:525: FutureWarning: Passing (type, 1) or '1type' as a synonym of type is deprecated; in a future version of numpy, it will be understood as (type, (1,)) / '(1,)type'.\n",
      "  _np_qint16 = np.dtype([(\"qint16\", np.int16, 1)])\n",
      "/home/weiyu/anaconda3/envs/tensorflow/lib/python3.6/site-packages/tensorflow/python/framework/dtypes.py:526: FutureWarning: Passing (type, 1) or '1type' as a synonym of type is deprecated; in a future version of numpy, it will be understood as (type, (1,)) / '(1,)type'.\n",
      "  _np_quint16 = np.dtype([(\"quint16\", np.uint16, 1)])\n",
      "/home/weiyu/anaconda3/envs/tensorflow/lib/python3.6/site-packages/tensorflow/python/framework/dtypes.py:527: FutureWarning: Passing (type, 1) or '1type' as a synonym of type is deprecated; in a future version of numpy, it will be understood as (type, (1,)) / '(1,)type'.\n",
      "  _np_qint32 = np.dtype([(\"qint32\", np.int32, 1)])\n",
      "/home/weiyu/anaconda3/envs/tensorflow/lib/python3.6/site-packages/tensorflow/python/framework/dtypes.py:532: FutureWarning: Passing (type, 1) or '1type' as a synonym of type is deprecated; in a future version of numpy, it will be understood as (type, (1,)) / '(1,)type'.\n",
      "  np_resource = np.dtype([(\"resource\", np.ubyte, 1)])\n",
      "Using TensorFlow backend.\n"
     ]
    }
   ],
   "source": [
    "import tensorflow as tf\n",
    "import fasttext\n",
    "import numpy as np\n",
    "import pickle\n",
    "import jieba\n",
    "import pandas as pd\n",
    "import keras\n",
    "from keras.utils import to_categorical\n",
    "from keras.layers import Input,Dense,Conv1D,MaxPooling1D,Flatten,Dropout,concatenate\n",
    "from keras.models import Model\n",
    "import matplotlib.pyplot as plt \n",
    "from sklearn.metrics import accuracy_score,recall_score,f1_score"
   ]
  },
  {
   "cell_type": "markdown",
   "metadata": {},
   "source": [
    "# 加载数据"
   ]
  },
  {
   "cell_type": "code",
   "execution_count": 2,
   "metadata": {},
   "outputs": [],
   "source": [
    "#加载数据\n",
    "with open(\"./data/data_input.pkl\", \"rb\") as f:\n",
    "    text_train, label_train, text_test, label_test, label_names = pickle.load(f)"
   ]
  },
  {
   "cell_type": "code",
   "execution_count": 3,
   "metadata": {},
   "outputs": [],
   "source": [
    "#加载停用词\n",
    "stopwords=pd.read_csv(\"./data/stopwords.txt\",index_col=False,quoting=3,sep=\"\\t\",names=['stopword'], encoding='utf-8')\n",
    "stopwords=stopwords['stopword'].values"
   ]
  },
  {
   "cell_type": "markdown",
   "metadata": {},
   "source": [
    "# 数据预处理"
   ]
  },
  {
   "cell_type": "code",
   "execution_count": 4,
   "metadata": {},
   "outputs": [],
   "source": [
    "#分词\n",
    "def text_to_token(line):\n",
    "    words = jieba.lcut(line)\n",
    "    tokens = np.array([x for x in words if x not in stopwords])\n",
    "    return tokens"
   ]
  },
  {
   "cell_type": "code",
   "execution_count": 5,
   "metadata": {},
   "outputs": [
    {
     "name": "stderr",
     "output_type": "stream",
     "text": [
      "Building prefix dict from the default dictionary ...\n",
      "Loading model from cache /tmp/jieba.cache\n",
      "Dumping model to file cache /tmp/jieba.cache\n",
      "Dump cache file failed.\n",
      "Traceback (most recent call last):\n",
      "  File \"/home/weiyu/anaconda3/envs/tensorflow/lib/python3.6/site-packages/jieba/__init__.py\", line 154, in initialize\n",
      "    _replace_file(fpath, cache_file)\n",
      "PermissionError: [Errno 1] Operation not permitted: '/tmp/tmpcsxzw1e_' -> '/tmp/jieba.cache'\n",
      "Loading model cost 1.069 seconds.\n",
      "Prefix dict has been built successfully.\n"
     ]
    }
   ],
   "source": [
    "x_train_token=np.array([text_to_token(x) for x in text_train])\n",
    "x_test_token=np.array([text_to_token(x) for x in text_test])"
   ]
  },
  {
   "cell_type": "code",
   "execution_count": 6,
   "metadata": {},
   "outputs": [
    {
     "name": "stderr",
     "output_type": "stream",
     "text": [
      "\n"
     ]
    }
   ],
   "source": [
    "model=fasttext.load_model(\"./model/model_fasttext.bin\")"
   ]
  },
  {
   "cell_type": "code",
   "execution_count": 7,
   "metadata": {},
   "outputs": [],
   "source": [
    "sequence_len=100\n",
    "embedding_size=300\n",
    "#处理成定长\n",
    "def get_embedding(line):\n",
    "    word_vec=np.zeros([sequence_len,embedding_size])\n",
    "    for i in range(sequence_len):\n",
    "        if(i<len(line)):\n",
    "            word_vec[i]=model[line[i]]\n",
    "        else:\n",
    "            word_vec[i]=model[\"blank\"]\n",
    "    return word_vec"
   ]
  },
  {
   "cell_type": "code",
   "execution_count": 8,
   "metadata": {},
   "outputs": [],
   "source": [
    "x_train = np.array([get_embedding(x) for x in x_train_token])\n",
    "x_test = np.array([get_embedding(x) for x in x_test_token])"
   ]
  },
  {
   "cell_type": "code",
   "execution_count": 9,
   "metadata": {},
   "outputs": [],
   "source": [
    "y_train = to_categorical(label_train)\n",
    "y_test = to_categorical(label_test)"
   ]
  },
  {
   "cell_type": "code",
   "execution_count": 10,
   "metadata": {},
   "outputs": [
    {
     "data": {
      "text/plain": [
       "(5734, 45)"
      ]
     },
     "execution_count": 10,
     "metadata": {},
     "output_type": "execute_result"
    }
   ],
   "source": [
    "y_train.shape"
   ]
  },
  {
   "cell_type": "code",
   "execution_count": 11,
   "metadata": {},
   "outputs": [
    {
     "name": "stdout",
     "output_type": "stream",
     "text": [
      "writing data to fasttext format...\n",
      "done!\n"
     ]
    }
   ],
   "source": [
    "#写入文件\n",
    "print(\"writing data to fasttext format...\")\n",
    "with open('./data/data.pkl', 'wb') as f:\n",
    "    pickle.dump([x_train,y_train,x_test,y_test],f)\n",
    "print(\"done!\")"
   ]
  },
  {
   "cell_type": "markdown",
   "metadata": {},
   "source": [
    "# 训练模型"
   ]
  },
  {
   "cell_type": "code",
   "execution_count": 12,
   "metadata": {},
   "outputs": [],
   "source": [
    "# 使用gpu\n",
    "import os\n",
    "os.environ[\"CUDA_VISIBLE_DEVICES\"] = \"3\"\n",
    "\n",
    "# 设置定量的GPU使用量\n",
    "config = tf.ConfigProto()\n",
    "session = tf.Session(config=config)\n",
    "\n",
    "# 设置最少显存\n",
    "config = tf.ConfigProto()\n",
    "config.gpu_options.allow_growth = True"
   ]
  },
  {
   "cell_type": "code",
   "execution_count": 13,
   "metadata": {},
   "outputs": [],
   "source": [
    "#textCNN\n",
    "input_layer = Input(shape=(sequence_len,embedding_size), dtype='float')\n",
    "cnn1 = Conv1D(256, 3, padding='same', strides=1, activation='relu')(input_layer)\n",
    "cnn1 = MaxPooling1D(pool_size=48)(cnn1)\n",
    "cnn2 = Conv1D(256, 4, padding='same', strides=1, activation='relu')(input_layer)\n",
    "cnn2 = MaxPooling1D(pool_size=47)(cnn2)\n",
    "cnn3 = Conv1D(256, 5, padding='same', strides=1, activation='relu')(input_layer)\n",
    "cnn3 = MaxPooling1D(pool_size=46)(cnn3)\n",
    "# 合并三个模型的输出向量\n",
    "cnn = concatenate([cnn1, cnn2, cnn3], axis=-1)\n",
    "flat = Flatten()(cnn)\n",
    "drop = Dropout(0.2)(flat)\n",
    "output_layer = Dense(len(label_names), activation='softmax')(drop)\n",
    "\n",
    "model=Model(input_layer,output_layer)"
   ]
  },
  {
   "cell_type": "code",
   "execution_count": 14,
   "metadata": {},
   "outputs": [
    {
     "name": "stdout",
     "output_type": "stream",
     "text": [
      "Train on 5160 samples, validate on 574 samples\n",
      "Epoch 1/10\n",
      "5160/5160 [==============================] - 11s 2ms/step - loss: 2.0774 - acc: 0.4638 - val_loss: 1.5092 - val_acc: 0.5557\n",
      "Epoch 2/10\n",
      "5160/5160 [==============================] - 11s 2ms/step - loss: 1.0110 - acc: 0.6990 - val_loss: 1.3444 - val_acc: 0.5993\n",
      "Epoch 3/10\n",
      "5160/5160 [==============================] - 11s 2ms/step - loss: 0.5595 - acc: 0.8442 - val_loss: 1.3607 - val_acc: 0.5714\n",
      "Epoch 4/10\n",
      "5160/5160 [==============================] - 11s 2ms/step - loss: 0.2879 - acc: 0.9403 - val_loss: 1.2652 - val_acc: 0.5941\n",
      "Epoch 5/10\n",
      "5160/5160 [==============================] - 10s 2ms/step - loss: 0.1545 - acc: 0.9744 - val_loss: 1.2986 - val_acc: 0.6045\n",
      "Epoch 6/10\n",
      "5160/5160 [==============================] - 10s 2ms/step - loss: 0.0984 - acc: 0.9882 - val_loss: 1.3042 - val_acc: 0.6028\n",
      "Epoch 7/10\n",
      "5160/5160 [==============================] - 10s 2ms/step - loss: 0.0626 - acc: 0.9938 - val_loss: 1.3335 - val_acc: 0.6080\n",
      "Epoch 8/10\n",
      "5160/5160 [==============================] - 10s 2ms/step - loss: 0.0535 - acc: 0.9930 - val_loss: 1.3256 - val_acc: 0.6272\n",
      "Epoch 9/10\n",
      "5160/5160 [==============================] - 11s 2ms/step - loss: 0.0410 - acc: 0.9969 - val_loss: 1.3537 - val_acc: 0.6185\n",
      "Epoch 10/10\n",
      "5160/5160 [==============================] - 11s 2ms/step - loss: 0.0388 - acc: 0.9948 - val_loss: 1.3645 - val_acc: 0.6010\n"
     ]
    }
   ],
   "source": [
    "model.compile(loss='categorical_crossentropy', optimizer='adam', metrics=['accuracy'])\n",
    "history=model.fit(x_train, y_train, batch_size=32, epochs=10,validation_split=0.1)"
   ]
  },
  {
   "cell_type": "code",
   "execution_count": 15,
   "metadata": {},
   "outputs": [
    {
     "data": {
      "text/plain": [
       "<matplotlib.legend.Legend at 0x7fc4640e26a0>"
      ]
     },
     "execution_count": 15,
     "metadata": {},
     "output_type": "execute_result"
    },
    {
     "data": {
      "image/png": "[encoded data removed]",
      "text/plain": [
       "<Figure size 432x288 with 1 Axes>"
      ]
     },
     "metadata": {
      "needs_background": "light"
     },
     "output_type": "display_data"
    }
   ],
   "source": [
    "plt.plot(history.history[\"loss\"],label=\"loss\")\n",
    "plt.plot(history.history[\"acc\"],label=\"acc\")\n",
    "plt.xlabel('epoch')\n",
    "plt.legend()"
   ]
  },
  {
   "cell_type": "markdown",
   "metadata": {},
   "source": [
    "# 测试"
   ]
  },
  {
   "cell_type": "code",
   "execution_count": 21,
   "metadata": {},
   "outputs": [
    {
     "name": "stdout",
     "output_type": "stream",
     "text": [
      "              precision    recall  f1-score   support\n",
      "\n",
      "           0       0.57      0.83      0.67       254\n",
      "           1       0.66      0.76      0.71       374\n",
      "           2       0.50      0.37      0.43       310\n",
      "           3       0.45      0.49      0.47       280\n",
      "           4       0.62      0.70      0.66       276\n",
      "           5       0.57      0.77      0.65       175\n",
      "           6       0.53      0.66      0.59       159\n",
      "           7       0.39      0.58      0.46       190\n",
      "           8       0.32      0.32      0.32       164\n",
      "           9       0.32      0.19      0.24       113\n",
      "          10       0.76      0.75      0.76       145\n",
      "          11       0.51      0.55      0.53        47\n",
      "          12       0.20      0.11      0.14        28\n",
      "          13       0.62      0.76      0.68        83\n",
      "          14       0.12      0.03      0.05        60\n",
      "          15       0.25      0.04      0.07        24\n",
      "          16       0.70      0.66      0.68        85\n",
      "          17       0.58      0.45      0.51        31\n",
      "          18       0.67      0.63      0.65        54\n",
      "          19       0.78      0.76      0.77       130\n",
      "          20       0.52      0.42      0.46        38\n",
      "          21       0.25      0.09      0.13        58\n",
      "          22       0.79      0.75      0.77        20\n",
      "          23       0.56      0.10      0.17        50\n",
      "          24       0.75      0.62      0.68        58\n",
      "          25       0.25      0.14      0.18        29\n",
      "          26       0.46      0.46      0.46        50\n",
      "          27       0.00      0.00      0.00        14\n",
      "          28       0.60      0.16      0.25        19\n",
      "          29       0.75      0.62      0.68        48\n",
      "          30       0.59      0.48      0.53        27\n",
      "          31       0.46      0.70      0.55        23\n",
      "          32       0.61      0.61      0.61        23\n",
      "          33       0.33      0.05      0.09        20\n",
      "          34       0.69      0.58      0.63        31\n",
      "          35       0.30      0.50      0.38        14\n",
      "          36       0.38      0.09      0.14        34\n",
      "          37       0.50      0.29      0.37        24\n",
      "          38       0.37      0.64      0.47        11\n",
      "          39       0.25      0.17      0.20        12\n",
      "          40       0.33      0.08      0.13        12\n",
      "          41       0.20      0.20      0.20         5\n",
      "          42       0.00      0.00      0.00         6\n",
      "          43       0.38      0.16      0.22        32\n",
      "          44       0.33      0.19      0.24        16\n",
      "\n",
      "    accuracy                           0.55      3656\n",
      "   macro avg       0.46      0.41      0.41      3656\n",
      "weighted avg       0.53      0.55      0.53      3656\n",
      "\n"
     ]
    }
   ],
   "source": [
    "result = model.predict(x_test)\n",
    "y_predict = np.argmax(result, axis=1)  \n",
    "from sklearn.metrics import classification_report\n",
    "print(classification_report(y_pred= y_predict, y_true=label_test))"
   ]
  },
  {
   "cell_type": "code",
   "execution_count": null,
   "metadata": {},
   "outputs": [],
   "source": []
  }
 ],
 "metadata": {
  "kernelspec": {
   "display_name": "tensorflow",
   "language": "python",
   "name": "tensorflow"
  },
  "language_info": {
   "codemirror_mode": {
    "name": "ipython",
    "version": 3
   },
   "file_extension": ".py",
   "mimetype": "text/x-python",
   "name": "python",
   "nbconvert_exporter": "python",
   "pygments_lexer": "ipython3",
   "version": "3.6.10"
  }
 },
 "nbformat": 4,
 "nbformat_minor": 2
}
