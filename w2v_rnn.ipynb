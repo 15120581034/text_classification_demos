{
 "cells": [
  {
   "cell_type": "code",
   "execution_count": 4,
   "metadata": {},
   "outputs": [],
   "source": [
    "import numpy as np\n",
    "import pandas as pd\n",
    "import pickle\n",
    "import os\n",
    "import jieba"
   ]
  },
  {
   "cell_type": "markdown",
   "metadata": {},
   "source": [
    "# load data"
   ]
  },
  {
   "cell_type": "code",
   "execution_count": 5,
   "metadata": {},
   "outputs": [],
   "source": [
    "with open(\"./data/data_input.pkl\", \"rb\") as f:\n",
    "    text_train, label_train, text_test, label_test, label_names = pickle.load(f)"
   ]
  },
  {
   "cell_type": "markdown",
   "metadata": {},
   "source": [
    "# 分词"
   ]
  },
  {
   "cell_type": "code",
   "execution_count": 6,
   "metadata": {},
   "outputs": [],
   "source": [
    "def text_to_tokens(text, stop_words = []):\n",
    "    \"\"\"\n",
    "    text: 需要分词的文本\n",
    "    stop_words: 停用词表，如果有的话\n",
    "    \"\"\"\n",
    "    words = jieba.cut(text)\n",
    "    tokens = [word for word in words if word not in stop_words]\n",
    "    return tokens"
   ]
  },
  {
   "cell_type": "code",
   "execution_count": 8,
   "metadata": {},
   "outputs": [],
   "source": [
    "train_tokens = np.array([text_to_tokens(text) for text in text_train])\n",
    "test_tokens = np.array([text_to_tokens(text) for text in text_test])"
   ]
  },
  {
   "cell_type": "code",
   "execution_count": 9,
   "metadata": {},
   "outputs": [
    {
     "name": "stdout",
     "output_type": "stream",
     "text": [
      "train size:  (5734,)\n",
      "test size:  (3656,)\n"
     ]
    }
   ],
   "source": [
    "print(\"train size: \", train_tokens.shape)\n",
    "print(\"test size: \", test_tokens.shape)"
   ]
  },
  {
   "cell_type": "markdown",
   "metadata": {},
   "source": [
    "# fasttext 表征文本"
   ]
  },
  {
   "cell_type": "code",
   "execution_count": 10,
   "metadata": {},
   "outputs": [],
   "source": [
    "import fasttext\n",
    "\n",
    "# model path \n",
    "PROJECT_HOME = \"/usr/lib/carter/carter-predictor/\"\n",
    "PRETRAINED_MODEL_PATH = PROJECT_HOME + \"pretrained_models/\"\n",
    "FT_MODEL_NAME = 'event_corpus_20181112_fasttext_vec300_epoch50.bin'\n",
    "\n",
    "# load fasttext model\n",
    "ft_model = fasttext.load_model(PRETRAINED_MODEL_PATH + FT_MODEL_NAME)\n",
    "embedding_dim = len(ft_model[\"上海\"])"
   ]
  },
  {
   "cell_type": "code",
   "execution_count": 11,
   "metadata": {},
   "outputs": [
    {
     "name": "stdout",
     "output_type": "stream",
     "text": [
      "embedding dim: 300\n"
     ]
    }
   ],
   "source": [
    "print(\"embedding dim:\", embedding_dim)"
   ]
  },
  {
   "cell_type": "code",
   "execution_count": 25,
   "metadata": {},
   "outputs": [],
   "source": [
    "# 词向量序列作为特征\n",
    "def get_fasttext_sequence(tokens_list, max_sequence_length, model):\n",
    "    embedding = np.zeros(shape=(max_sequence_length, embedding_dim))\n",
    "    for i, token in enumerate(tokens_list):\n",
    "        if token in ft_model.words and i < max_sequence_length:\n",
    "            embedding[i] = ft_model[token]\n",
    "        elif token not in ft_model.words and i < max_sequence_length:\n",
    "            embedding[i] = ft_model[\"unk\"]\n",
    "        else:\n",
    "            break\n",
    "    # padding \n",
    "    while i < max_sequence_length:\n",
    "        embedding[i] = ft_model[\"blank\"]\n",
    "        i += 1\n",
    "    return embedding"
   ]
  },
  {
   "cell_type": "code",
   "execution_count": 31,
   "metadata": {},
   "outputs": [],
   "source": [
    "max_sequence_length = 100  # 文本序列的最大长度 \n",
    "\n",
    "X_train = np.array([get_fasttext_sequence(tokens, max_sequence_length, ft_model) for tokens in train_tokens])\n",
    "X_test = np.array([get_fasttext_sequence(tokens, max_sequence_length, ft_model) for tokens in test_tokens])"
   ]
  },
  {
   "cell_type": "code",
   "execution_count": 32,
   "metadata": {},
   "outputs": [
    {
     "name": "stdout",
     "output_type": "stream",
     "text": [
      "data train shape:  (5734, 100, 300)\n",
      "data test shape:  (3656, 100, 300)\n"
     ]
    }
   ],
   "source": [
    "print(\"data train shape: \", X_train.shape)\n",
    "print(\"data test shape: \", X_test.shape)"
   ]
  },
  {
   "cell_type": "markdown",
   "metadata": {},
   "source": [
    "# 训练分类模型"
   ]
  },
  {
   "cell_type": "code",
   "execution_count": 41,
   "metadata": {
    "scrolled": true
   },
   "outputs": [],
   "source": [
    "from keras.layers import Dense, Input, Dropout, Bidirectional, CuDNNGRU  # GRU for no cuda version\n",
    "from keras.models import Model\n",
    "from keras.utils import to_categorical\n",
    "import tensorflow as tf\n",
    "from keras.optimizers import Adam"
   ]
  },
  {
   "cell_type": "code",
   "execution_count": 42,
   "metadata": {},
   "outputs": [],
   "source": [
    "# 使用gpu\n",
    "import os\n",
    "os.environ[\"CUDA_VISIBLE_DEVICES\"] = \"3\"\n",
    "\n",
    "# 设置定量的GPU使用量\n",
    "config = tf.ConfigProto()\n",
    "session = tf.Session(config=config)\n",
    "\n",
    "# 设置最少显存\n",
    "config = tf.ConfigProto()\n",
    "config.gpu_options.allow_growth = True  "
   ]
  },
  {
   "cell_type": "code",
   "execution_count": 43,
   "metadata": {},
   "outputs": [],
   "source": [
    "Y_train = to_categorical(label_train)\n",
    "Y_test = to_categorical(label_test)"
   ]
  },
  {
   "cell_type": "code",
   "execution_count": 44,
   "metadata": {},
   "outputs": [],
   "source": [
    "max_sequence_length = 100\n",
    "embedding_dim = 300\n",
    "\n",
    "input_layer = Input(shape=(max_sequence_length, embedding_dim), dtype=float)\n",
    "rnn_layer = Bidirectional(CuDNNGRU(units=128))(input_layer)\n",
    "dropout_layer = Dropout(rate=0.2)(rnn_layer)\n",
    "output_layer = Dense(units=len(label_names), activation=\"softmax\")(dropout_layer)\n",
    "\n",
    "model = Model(input_layer, output_layer)"
   ]
  },
  {
   "cell_type": "code",
   "execution_count": 46,
   "metadata": {},
   "outputs": [],
   "source": [
    "optimizer=Adam(lr=0.01)\n",
    "model.compile(optimizer, loss='categorical_crossentropy', metrics=[\"accuracy\"])"
   ]
  },
  {
   "cell_type": "code",
   "execution_count": 47,
   "metadata": {
    "scrolled": true
   },
   "outputs": [
    {
     "name": "stdout",
     "output_type": "stream",
     "text": [
      "Train on 5160 samples, validate on 574 samples\n",
      "Epoch 1/20\n",
      "5160/5160 [==============================] - 15s 3ms/step - loss: 1.9066 - acc: 0.4734 - val_loss: 1.3783 - val_acc: 0.5436\n",
      "Epoch 2/20\n",
      "5160/5160 [==============================] - 4s 756us/step - loss: 1.1848 - acc: 0.6329 - val_loss: 1.3383 - val_acc: 0.5714\n",
      "Epoch 3/20\n",
      "5160/5160 [==============================] - 4s 815us/step - loss: 0.8787 - acc: 0.7132 - val_loss: 1.3294 - val_acc: 0.6446\n",
      "Epoch 4/20\n",
      "5160/5160 [==============================] - 4s 789us/step - loss: 0.6541 - acc: 0.7855 - val_loss: 1.6008 - val_acc: 0.5767\n",
      "Epoch 5/20\n",
      "5160/5160 [==============================] - 4s 837us/step - loss: 0.4692 - acc: 0.8417 - val_loss: 1.5625 - val_acc: 0.6394\n",
      "Epoch 6/20\n",
      "5160/5160 [==============================] - 4s 815us/step - loss: 0.3720 - acc: 0.8721 - val_loss: 1.6856 - val_acc: 0.6185\n",
      "Epoch 7/20\n",
      "5160/5160 [==============================] - 4s 753us/step - loss: 0.3810 - acc: 0.8777 - val_loss: 1.8644 - val_acc: 0.5871\n",
      "Epoch 8/20\n",
      "5160/5160 [==============================] - 4s 764us/step - loss: 0.4132 - acc: 0.8612 - val_loss: 1.9214 - val_acc: 0.5906\n",
      "Epoch 9/20\n",
      "5160/5160 [==============================] - 4s 718us/step - loss: 0.6142 - acc: 0.8081 - val_loss: 2.2822 - val_acc: 0.5366\n",
      "Epoch 10/20\n",
      "5160/5160 [==============================] - 4s 773us/step - loss: 0.7927 - acc: 0.7576 - val_loss: 2.1788 - val_acc: 0.5453\n",
      "Epoch 11/20\n",
      "5160/5160 [==============================] - 4s 850us/step - loss: 1.0664 - acc: 0.7109 - val_loss: 2.4049 - val_acc: 0.5296\n",
      "Epoch 12/20\n",
      "5160/5160 [==============================] - 4s 748us/step - loss: 1.0562 - acc: 0.6988 - val_loss: 2.2548 - val_acc: 0.5296\n",
      "Epoch 13/20\n",
      "5160/5160 [==============================] - 4s 747us/step - loss: 1.2977 - acc: 0.6574 - val_loss: 2.3284 - val_acc: 0.5296\n",
      "Epoch 14/20\n",
      "5160/5160 [==============================] - 4s 779us/step - loss: 1.4053 - acc: 0.6463 - val_loss: 2.5707 - val_acc: 0.5261\n",
      "Epoch 15/20\n",
      "5160/5160 [==============================] - 4s 808us/step - loss: 1.4537 - acc: 0.6258 - val_loss: 2.3642 - val_acc: 0.5383\n",
      "Epoch 16/20\n",
      "5160/5160 [==============================] - 4s 729us/step - loss: 1.7775 - acc: 0.5719 - val_loss: 2.4255 - val_acc: 0.5087\n",
      "Epoch 17/20\n",
      "5160/5160 [==============================] - 4s 774us/step - loss: 1.7495 - acc: 0.5785 - val_loss: 2.2480 - val_acc: 0.5105\n",
      "Epoch 18/20\n",
      "5160/5160 [==============================] - 4s 778us/step - loss: 1.4995 - acc: 0.6095 - val_loss: 2.3566 - val_acc: 0.5627\n",
      "Epoch 19/20\n",
      "5160/5160 [==============================] - 4s 717us/step - loss: 1.3846 - acc: 0.6281 - val_loss: 2.2531 - val_acc: 0.5488\n",
      "Epoch 20/20\n",
      "5160/5160 [==============================] - 4s 713us/step - loss: 1.3575 - acc: 0.6436 - val_loss: 2.2291 - val_acc: 0.4878\n"
     ]
    }
   ],
   "source": [
    "history = model.fit(x=X_train, y=Y_train, batch_size=32, epochs=20, validation_split=0.1)"
   ]
  },
  {
   "cell_type": "code",
   "execution_count": 48,
   "metadata": {},
   "outputs": [],
   "source": [
    "# 训练过程\n",
    "import matplotlib.pyplot as plt\n",
    "def plot_accuracy(history):\n",
    "    fig = plt.figure()\n",
    "#     plt.subplot(121)\n",
    "    plt.plot(history.history['acc'],label='training acc')\n",
    "    plt.plot(history.history['val_acc'],label='val acc')\n",
    "    plt.title('model accuracy')\n",
    "    plt.ylabel('accuracy')\n",
    "    plt.xlabel('epoch')\n",
    "    plt.legend(loc='lower right')\n",
    "    plt.show()\n",
    "    \n",
    "def plot_loss(history):\n",
    "#     plt.subplot(121)\n",
    "    fig = plt.figure()\n",
    "    plt.plot(history.history['loss'],label='training loss')\n",
    "    plt.plot(history.history['val_loss'], label='val loss')\n",
    "    plt.title('model loss')\n",
    "    plt.ylabel('loss')\n",
    "    plt.xlabel('epoch')\n",
    "    plt.legend(loc='upper right')\n",
    "    plt.show()\n"
   ]
  },
  {
   "cell_type": "code",
   "execution_count": 50,
   "metadata": {},
   "outputs": [
    {
     "data": {
      "image/png": "[encoded data removed]",
      "text/plain": [
       "<Figure size 432x288 with 1 Axes>"
      ]
     },
     "metadata": {
      "needs_background": "light"
     },
     "output_type": "display_data"
    }
   ],
   "source": [
    "plot_accuracy(history)"
   ]
  },
  {
   "cell_type": "code",
   "execution_count": 52,
   "metadata": {},
   "outputs": [
    {
     "data": {
      "image/png": "[encoded data removed]",
      "text/plain": [
       "<Figure size 432x288 with 1 Axes>"
      ]
     },
     "metadata": {
      "needs_background": "light"
     },
     "output_type": "display_data"
    }
   ],
   "source": [
    "plot_loss(history)"
   ]
  },
  {
   "cell_type": "markdown",
   "metadata": {},
   "source": [
    "# test"
   ]
  },
  {
   "cell_type": "code",
   "execution_count": 53,
   "metadata": {},
   "outputs": [],
   "source": [
    "# predict probability\n",
    "test_prob = model.predict(X_test)"
   ]
  },
  {
   "cell_type": "code",
   "execution_count": 54,
   "metadata": {},
   "outputs": [],
   "source": [
    "test_pred = [np.argmax(prob) for prob in test_prob]"
   ]
  },
  {
   "cell_type": "markdown",
   "metadata": {},
   "source": [
    "# evaluation"
   ]
  },
  {
   "cell_type": "code",
   "execution_count": 55,
   "metadata": {},
   "outputs": [
    {
     "name": "stdout",
     "output_type": "stream",
     "text": [
      "              precision    recall  f1-score   support\n",
      "\n",
      "           0       0.58      0.74      0.65       254\n",
      "           1       0.67      0.74      0.70       374\n",
      "           2       0.35      0.57      0.43       310\n",
      "           3       0.44      0.24      0.31       280\n",
      "           4       0.60      0.60      0.60       276\n",
      "           5       0.60      0.30      0.40       175\n",
      "           6       0.53      0.45      0.48       159\n",
      "           7       0.52      0.42      0.46       190\n",
      "           8       0.21      0.11      0.14       164\n",
      "           9       0.18      0.23      0.20       113\n",
      "          10       0.68      0.74      0.71       145\n",
      "          11       0.53      0.60      0.56        47\n",
      "          12       0.27      0.14      0.19        28\n",
      "          13       0.61      0.45      0.51        83\n",
      "          14       0.10      0.05      0.07        60\n",
      "          15       0.06      0.29      0.10        24\n",
      "          16       0.65      0.62      0.64        85\n",
      "          17       0.20      0.39      0.26        31\n",
      "          18       0.33      0.57      0.42        54\n",
      "          19       0.71      0.75      0.73       130\n",
      "          20       0.54      0.37      0.44        38\n",
      "          21       0.33      0.02      0.03        58\n",
      "          22       0.46      0.85      0.60        20\n",
      "          23       0.24      0.22      0.23        50\n",
      "          24       0.57      0.60      0.59        58\n",
      "          25       0.06      0.14      0.08        29\n",
      "          26       0.22      0.28      0.24        50\n",
      "          27       0.29      0.14      0.19        14\n",
      "          28       0.08      0.16      0.11        19\n",
      "          29       0.51      0.46      0.48        48\n",
      "          30       0.32      0.26      0.29        27\n",
      "          31       0.57      0.57      0.57        23\n",
      "          32       0.73      0.35      0.47        23\n",
      "          33       0.00      0.00      0.00        20\n",
      "          34       0.59      0.55      0.57        31\n",
      "          35       0.00      0.00      0.00        14\n",
      "          36       0.33      0.03      0.05        34\n",
      "          37       0.67      0.25      0.36        24\n",
      "          38       0.20      0.45      0.28        11\n",
      "          39       0.00      0.00      0.00        12\n",
      "          40       0.12      0.08      0.10        12\n",
      "          41       0.17      0.40      0.24         5\n",
      "          42       0.14      0.17      0.15         6\n",
      "          43       0.64      0.22      0.33        32\n",
      "          44       0.33      0.06      0.11        16\n",
      "\n",
      "   micro avg       0.46      0.46      0.46      3656\n",
      "   macro avg       0.38      0.35      0.33      3656\n",
      "weighted avg       0.48      0.46      0.45      3656\n",
      "\n"
     ]
    }
   ],
   "source": [
    "from sklearn.metrics import classification_report\n",
    "print(classification_report(y_pred= test_pred, y_true=label_test))"
   ]
  },
  {
   "cell_type": "code",
   "execution_count": null,
   "metadata": {},
   "outputs": [],
   "source": []
  }
 ],
 "metadata": {
  "kernelspec": {
   "display_name": "python3-tf-gpu",
   "language": "python",
   "name": "python3-tf-gpu"
  },
  "language_info": {
   "codemirror_mode": {
    "name": "ipython",
    "version": 3
   },
   "file_extension": ".py",
   "mimetype": "text/x-python",
   "name": "python",
   "nbconvert_exporter": "python",
   "pygments_lexer": "ipython3",
   "version": "3.6.6"
  }
 },
 "nbformat": 4,
 "nbformat_minor": 2
}
